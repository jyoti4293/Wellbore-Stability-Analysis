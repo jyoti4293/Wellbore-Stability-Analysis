{
 "cells": [
  {
   "cell_type": "markdown",
   "metadata": {},
   "source": [
    "# WELLBORE STABILITY MODEL FOR FORMATIONS WITH ANISOTRPIC ROCK STRENGTH"
   ]
  },
  {
   "cell_type": "code",
   "execution_count": 1,
   "metadata": {},
   "outputs": [],
   "source": [
    "#import libraries\n",
    "import numpy as np\n",
    "import pandas as pd\n",
    "import math\n",
    "import scipy.linalg as la\n",
    "import matplotlib.pyplot as plt\n",
    "from scipy.stats import gamma\n"
   ]
  },
  {
   "cell_type": "markdown",
   "metadata": {},
   "source": [
    "NECESSARY INPUT PARAMETERS"
   ]
  },
  {
   "cell_type": "code",
   "execution_count": 2,
   "metadata": {},
   "outputs": [],
   "source": [
    "#Well depth (ft) \n",
    "#Overburden stress (sv, psi/ft)\n",
    "#Maximum horizontal stress (sH, psi/ft)\n",
    "#Azimuth of minimum horizontal stress (deg.)\n",
    "#Minimum horizontal stress (sh, psi/ft)\n",
    "#Pore pressure (Pp, psi/ft)\n",
    "#Cohesion of rock matrix (Si, psi)\n",
    "#Coefﬁcient of friction of rock matrix (mi)\n",
    "#Poisson’s ratio (u) \n",
    "#Biot’s parameter (a)\n",
    "#Cohesion of weak plane (Sw, psi)\n",
    "#Coefﬁcient of friction of weak planes (mw, deg.)\n",
    "#Dip angle of weak plane (deg.)\n",
    "#Dip direction of weak plane (deg.)\n",
    "#Radius of borehole(a)\n",
    "#Radial distance from center of borehole(r)\n"
   ]
  },
  {
   "cell_type": "markdown",
   "metadata": {},
   "source": [
    "INPUT VALUES IN THE FOLLOWING CELL:"
   ]
  },
  {
   "cell_type": "code",
   "execution_count": 3,
   "metadata": {},
   "outputs": [],
   "source": [
    "#Variables for Calculations\n",
    "d=3480\n",
    "\n",
    "# In-situ Stress Values\n",
    "sigmaH=0.8*d\n",
    "sigmah=0.75*d\n",
    "sigmav= 0.85*d\n",
    "\n",
    "#In-situ stress Direction\n",
    "alphas=60*0.0175\n",
    "betas=0\n",
    "\n",
    "#Input parameters (DIRECTION OF BOREHOLE)\n",
    "alphab= 150*0.0175\n",
    "betab=0*0.0175\n",
    "\n",
    "#Input parameters (DIRECTION OF PLAIN OF WEAKNESS)\n",
    "alphaw= 230*0.0175\n",
    "betaw= 5*0.0175\n",
    "\n",
    "#Input parameter (THETA IN CCS)\n",
    "#theta\n",
    "\n",
    "# Other Input Parameters\n",
    "\n",
    "pp=0.42*d\n",
    "alpha=1\n",
    "mu=0.37\n",
    "\n",
    "#Rock Strength parameters\n",
    "si= 550\n",
    "mi= 0.38\n",
    "sw= 220\n",
    "mw= 0.28"
   ]
  },
  {
   "cell_type": "markdown",
   "metadata": {},
   "source": [
    "ROTATION MATRIX & STRESS TRANSFORMATION FOR CONVERSION OF CORDINATE SYSTEMS:"
   ]
  },
  {
   "cell_type": "code",
   "execution_count": 4,
   "metadata": {},
   "outputs": [
    {
     "name": "stdout",
     "output_type": "stream",
     "text": [
      "[[2610.    0.    0.]\n",
      " [   0. 2784.    0.]\n",
      " [   0.    0. 2958.]]\n"
     ]
    }
   ],
   "source": [
    "#Defining values for ICS to GCS\n",
    "cosa= math.cos(alphas)\n",
    "cosb= math.cos(betas)\n",
    "sina= math.sin(alphas)\n",
    "sinb= math.sin(betas)\n",
    "sigmaics= np.array([[sigmah,0,0], [0,sigmaH,0], [0,0,sigmav]])\n",
    "print(sigmaics)"
   ]
  },
  {
   "cell_type": "code",
   "execution_count": 5,
   "metadata": {},
   "outputs": [
    {
     "name": "stdout",
     "output_type": "stream",
     "text": [
      "[[ 0.49757105  0.86742323  0.        ]\n",
      " [-0.86742323  0.49757105  0.        ]\n",
      " [-0.         -0.          1.        ]]\n"
     ]
    }
   ],
   "source": [
    "#rotation Matrix for ICS to GCS\n",
    "E= np.array([[cosa*cosb, sina*cosb, sinb], [-sina, cosa, 0], [-cosa*sinb, -sina*sinb, cosb]])\n",
    "print(E)\n",
    "ET= np.transpose(E)"
   ]
  },
  {
   "cell_type": "code",
   "execution_count": 6,
   "metadata": {},
   "outputs": [
    {
     "name": "stdout",
     "output_type": "stream",
     "text": [
      "[[2740.9216111  -75.0992149    0.       ]\n",
      " [ -75.0992149 2653.0783889    0.       ]\n",
      " [   0.           0.        2958.       ]]\n"
     ]
    }
   ],
   "source": [
    "#stresstransformationmatrix\n",
    "sigmaics2ecs= np.dot(np.dot(ET, sigmaics), E)\n",
    "print(sigmaics2ecs)"
   ]
  },
  {
   "cell_type": "code",
   "execution_count": 7,
   "metadata": {},
   "outputs": [
    {
     "name": "stdout",
     "output_type": "stream",
     "text": [
      "[[-0.86950718  0.4939203   0.        ]\n",
      " [-0.4939203  -0.86950718  0.        ]\n",
      " [ 0.         -0.          1.        ]]\n"
     ]
    }
   ],
   "source": [
    "#Rotation matrix\n",
    "B= np.array([[math.cos(alphab)*math.cos(betab), math.sin(alphab)*math.cos(betab), math.sin(betab)], \n",
    "            [-math.sin(alphab), math.cos(alphab), 0],\n",
    "            [-math.cos(alphab)*math.sin(betab), -math.sin(alphab)*math.sin(betab), math.cos(betab)]])\n",
    "print(B)\n",
    "BT= np.transpose(B)"
   ]
  },
  {
   "cell_type": "code",
   "execution_count": 8,
   "metadata": {},
   "outputs": [
    {
     "name": "stdout",
     "output_type": "stream",
     "text": [
      "[[ 2.78399693e+03 -7.31430521e-01  0.00000000e+00]\n",
      " [-7.31430521e-01  2.61000307e+03  0.00000000e+00]\n",
      " [ 0.00000000e+00  0.00000000e+00  2.95800000e+03]]\n"
     ]
    }
   ],
   "source": [
    "#Stress transformation matrix\n",
    "sigmaecs2bcs= np.dot(np.dot(B, sigmaics2ecs), BT)\n",
    "print(sigmaecs2bcs)\n"
   ]
  },
  {
   "cell_type": "code",
   "execution_count": 9,
   "metadata": {},
   "outputs": [
    {
     "name": "stdout",
     "output_type": "stream",
     "text": [
      "[[-0.05544979 -0.06754296  0.99617432]\n",
      " [ 0.7729054  -0.63452128  0.        ]\n",
      " [ 0.6320938   0.7699485   0.08738839]]\n"
     ]
    }
   ],
   "source": [
    "#Rotation matrix\n",
    "W= np.array([[math.cos(alphaw)*math.sin(betaw), math.sin(alphaw)*math.sin(betaw), math.cos(betaw)], \n",
    "            [-math.sin(alphaw), math.cos(alphaw), 0],\n",
    "            [-math.cos(alphaw)*math.cos(betaw), -math.sin(alphaw)*math.cos(betaw), math.sin(betaw)]])\n",
    "print(W)\n",
    "WT= np.transpose(W)"
   ]
  },
  {
   "cell_type": "code",
   "execution_count": 10,
   "metadata": {},
   "outputs": [],
   "source": [
    "x= (sigmaecs2bcs[0][0]+sigmaecs2bcs[1][1])\n",
    "y= (sigmaecs2bcs[0][0]-sigmaecs2bcs[1][1])"
   ]
  },
  {
   "cell_type": "markdown",
   "metadata": {},
   "source": [
    "CHECKING FAILURE FOR PLANE OF WEAKNESS:"
   ]
  },
  {
   "cell_type": "code",
   "execution_count": 11,
   "metadata": {},
   "outputs": [],
   "source": [
    "theta=0\n",
    "pm=0.5304*d\n",
    "lists1=[]\n",
    "lists2=[]\n",
    "lists3=[]\n",
    "while  (theta<180):\n",
    "    thet=theta*0.0175\n",
    "    sigmarr= pm-pp\n",
    "    sigma00= x-2*y*math.cos(2*thet)-4*sigmaecs2bcs[0][1]*math.sin(2*thet)-pm-pp\n",
    "    sigmazz=sigmaecs2bcs[2][2]-2*mu*y*math.cos(2*thet)-4*mu*sigmaecs2bcs[0][1]*math.sin(2*thet)-pp\n",
    "    taur0= 0\n",
    "    taurz= 0\n",
    "    tau0z= 2*(-sigmaecs2bcs[0][2]*math.sin(2*thet)+sigmaecs2bcs[1][2]*math.cos(2*thet))\n",
    "    \n",
    "    sigmaccs= [[sigmarr, taur0, taurz], [taur0, sigma00, tau0z], [taurz, tau0z, sigmazz]]\n",
    "\n",
    "   \n",
    "    \n",
    "    eigenvalue= la.eigvals(sigmaccs)\n",
    "    \n",
    "    sigma1= np.amax(abs(eigenvalue))\n",
    "    sigma3= np.amin(abs(eigenvalue))\n",
    "    C= [[math.cos(thet), math.sin(thet), 0], [-math.sin(thet), math.cos(thet), 0], [0,0,1]]\n",
    "    \n",
    "    CT= np.transpose(C)\n",
    "        \n",
    "    i= (np.dot(np.dot(W,BT), CT))\n",
    "    j= np.dot(np.dot(i, sigmaccs), C)\n",
    "    k= np.dot(np.dot(j,B), WT)\n",
    "    sigmaecs2wcs= k\n",
    "\n",
    "    \n",
    "    tauw= math.sqrt((np.power((k[0][1]),2)+np.power((k[0][2]),2)))\n",
    "    sigmaw= k[0][0]\n",
    "    v= tauw/(mw*sigmaw+sw)\n",
    "    if v>=1:\n",
    "        lists1.append(theta)\n",
    "        lists2.append(180+theta)\n",
    "        pm=pm+0.0052*d\n",
    "        continue\n",
    "       \n",
    "       \n",
    "        \n",
    "    else:\n",
    "        lists3.append(pm)\n",
    "        pm=0.5304*d\n",
    "    theta= theta+1\n",
    "\n",
    "\n",
    "        \n"
   ]
  },
  {
   "cell_type": "markdown",
   "metadata": {},
   "source": [
    "CHECKING FAILURE FOR ROCK MATRIX:"
   ]
  },
  {
   "cell_type": "code",
   "execution_count": 12,
   "metadata": {},
   "outputs": [],
   "source": [
    "theta=0\n",
    "pm=0.5304*d\n",
    "lists4=[]\n",
    "lists5=[]\n",
    "lists6=[]\n",
    "while  (theta<180):\n",
    "\n",
    "    thet=theta*0.0175\n",
    "    \n",
    "    sigmarr= pm-pp\n",
    "    sigma00= x-2*y*math.cos(2*thet)-4*sigmaecs2bcs[0][1]*math.sin(2*thet)-pm-pp\n",
    "    sigmazz=sigmaecs2bcs[2][2]-2*mu*y*math.cos(2*thet)-4*mu*sigmaecs2bcs[0][1]*math.sin(2*thet)-pp\n",
    "    taur0= 0\n",
    "    taurz= 0\n",
    "    tau0z= 2*(-sigmaecs2bcs[0][2]*math.sin(2*thet)+sigmaecs2bcs[1][2]*math.cos(2*thet))\n",
    "    \n",
    "    sigmaccs= [[sigmarr, taur0, taurz], [taur0, sigma00, tau0z], [taurz, tau0z, sigmazz]]\n",
    "   \n",
    "    \n",
    "    eigenvalue= la.eigvals(sigmaccs)\n",
    "    \n",
    "    sigma1= np.amax(abs(eigenvalue))\n",
    "    sigma3= np.amin(abs(eigenvalue))\n",
    "    \n",
    " \n",
    "    u= (sigma1)/abs(((sigma3)+2*(si+mi*sigma3)*(np.sqrt(1+mi*mi) +mi)))\n",
    "    \n",
    "    if u>=1:\n",
    "        lists4.append(theta)\n",
    "        lists5.append(theta+180)\n",
    "        pm=pm+0.0052*d\n",
    "        continue\n",
    "    \n",
    "    else:\n",
    "        lists6.append(pm)\n",
    "        pm=0.5304*d\n",
    "        theta= theta+1\n",
    "\n"
   ]
  },
  {
   "cell_type": "markdown",
   "metadata": {},
   "source": [
    "PLOT FOR FAILURE PATTERN:\n",
    "\n",
    "    GREEN: ROCK MATRIX\n",
    "    RED: PLANE OF WEAKNESS"
   ]
  },
  {
   "cell_type": "code",
   "execution_count": 13,
   "metadata": {},
   "outputs": [
    {
     "name": "stderr",
     "output_type": "stream",
     "text": [
      "C:\\ProgramData\\Anaconda3\\lib\\site-packages\\ipykernel_launcher.py:4: MatplotlibDeprecationWarning: Adding an axes using the same arguments as a previous axes currently reuses the earlier instance.  In a future version, a new instance will always be created and returned.  Meanwhile, this warning can be suppressed, and the future behavior ensured, by passing a unique label to each axes instance.\n",
      "  after removing the cwd from sys.path.\n"
     ]
    },
    {
     "data": {
      "image/png": "[encoded data removed]",
      "text/plain": [
       "<Figure size 432x288 with 1 Axes>"
      ]
     },
     "metadata": {
      "needs_background": "light"
     },
     "output_type": "display_data"
    }
   ],
   "source": [
    "r=50\n",
    "fig=plt.figure()\n",
    "ax=fig.gca()\n",
    "ax=plt.subplot(111,projection='polar')\n",
    "ax.set_theta_direction(-1)\n",
    "ax.set_theta_offset(math.pi/2)\n",
    "for j in range(len(lists4)):\n",
    "    \n",
    "    plt.polar(lists4[j]*np.pi/180, r,'g.')\n",
    "    plt.polar(lists5[j]*np.pi/180,r,'g.')\n",
    "\n",
    "for i in range(len(lists1)):\n",
    "    plt.polar(lists1[i]*np.pi/180, r,'r.')\n",
    "    plt.polar(lists2[i]*np.pi/180,r,'r.')\n",
    "    \n",
    "\n",
    "   "
   ]
  },
  {
   "cell_type": "markdown",
   "metadata": {},
   "source": [
    "MAXIMUM MUD WEIGHT FOR ROCK MATRIX:"
   ]
  },
  {
   "cell_type": "code",
   "execution_count": 14,
   "metadata": {},
   "outputs": [
    {
     "data": {
      "text/plain": [
       "1863.888"
      ]
     },
     "execution_count": 14,
     "metadata": {},
     "output_type": "execute_result"
    }
   ],
   "source": [
    "max(lists6)\n"
   ]
  },
  {
   "cell_type": "markdown",
   "metadata": {},
   "source": [
    "MAXIMUM MUD WEIGHT FOR PLANE OF WEAKNESS:"
   ]
  },
  {
   "cell_type": "code",
   "execution_count": 15,
   "metadata": {},
   "outputs": [
    {
     "data": {
      "text/plain": [
       "1845.792"
      ]
     },
     "execution_count": 15,
     "metadata": {},
     "output_type": "execute_result"
    }
   ],
   "source": [
    "max(lists3)\n"
   ]
  },
  {
   "cell_type": "code",
   "execution_count": null,
   "metadata": {},
   "outputs": [],
   "source": []
  }
 ],
 "metadata": {
  "kernelspec": {
   "display_name": "Python 3",
   "language": "python",
   "name": "python3"
  },
  "language_info": {
   "codemirror_mode": {
    "name": "ipython",
    "version": 3
   },
   "file_extension": ".py",
   "mimetype": "text/x-python",
   "name": "python",
   "nbconvert_exporter": "python",
   "pygments_lexer": "ipython3",
   "version": "3.7.6"
  }
 },
 "nbformat": 4,
 "nbformat_minor": 4
}
